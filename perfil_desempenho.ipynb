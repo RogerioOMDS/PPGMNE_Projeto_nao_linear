{
 "cells": [
  {
   "cell_type": "code",
   "execution_count": 103,
   "metadata": {},
   "outputs": [],
   "source": [
    "import pandas as pd \n",
    "import numpy as np \n",
    "from cmath import inf\n",
    "import matplotlib.pyplot as plt\n",
    "import seaborn as sns"
   ]
  },
  {
   "cell_type": "code",
   "execution_count": 71,
   "metadata": {},
   "outputs": [],
   "source": [
    "grad = pd.read_csv(\"bases/base_metodo_gradiente_t=0.1_lote=1.csv\")\n",
    "estoc = pd.read_csv(\"bases/base_metodo_gradiente_mini_lote_t=1_lote=1.csv\")\n",
    "lote = pd.read_csv(\"bases/base_metodo_gradiente_mini_lote_t=1_lote=metade.csv\")"
   ]
  },
  {
   "cell_type": "code",
   "execution_count": 72,
   "metadata": {},
   "outputs": [],
   "source": [
    "prob_nao_resolv = grad[~grad.problema.isin(estoc.problema)].copy()"
   ]
  },
  {
   "cell_type": "code",
   "execution_count": 73,
   "metadata": {},
   "outputs": [
    {
     "data": {
      "text/html": [
       "<div>\n",
       "<style scoped>\n",
       "    .dataframe tbody tr th:only-of-type {\n",
       "        vertical-align: middle;\n",
       "    }\n",
       "\n",
       "    .dataframe tbody tr th {\n",
       "        vertical-align: top;\n",
       "    }\n",
       "\n",
       "    .dataframe thead th {\n",
       "        text-align: right;\n",
       "    }\n",
       "</style>\n",
       "<table border=\"1\" class=\"dataframe\">\n",
       "  <thead>\n",
       "    <tr style=\"text-align: right;\">\n",
       "      <th></th>\n",
       "      <th>problema</th>\n",
       "      <th>x_inicial</th>\n",
       "      <th>status</th>\n",
       "      <th>x_final</th>\n",
       "      <th>iter</th>\n",
       "      <th>objetivo</th>\n",
       "      <th>gradiente</th>\n",
       "      <th>norma</th>\n",
       "      <th>tempo</th>\n",
       "    </tr>\n",
       "  </thead>\n",
       "  <tbody>\n",
       "    <tr>\n",
       "      <th>36</th>\n",
       "      <td>McKinnon</td>\n",
       "      <td>[0. 0.]</td>\n",
       "      <td>sucesso</td>\n",
       "      <td>[ 0.         -0.49950482]</td>\n",
       "      <td>31</td>\n",
       "      <td>-0.24999975480071346</td>\n",
       "      <td>[0.         0.00099035]</td>\n",
       "      <td>0.000990</td>\n",
       "      <td>0.000000</td>\n",
       "    </tr>\n",
       "    <tr>\n",
       "      <th>37</th>\n",
       "      <td>GaoHanAlmostQuadratic</td>\n",
       "      <td>[1. 1.]</td>\n",
       "      <td>sucesso</td>\n",
       "      <td>[0.00033019 0.00020935]</td>\n",
       "      <td>34</td>\n",
       "      <td>[[1.62793777e-07]]</td>\n",
       "      <td>[0.00069339 0.00046162]</td>\n",
       "      <td>0.000833</td>\n",
       "      <td>0.001995</td>\n",
       "    </tr>\n",
       "  </tbody>\n",
       "</table>\n",
       "</div>"
      ],
      "text/plain": [
       "                 problema x_inicial   status                    x_final  iter  \\\n",
       "36               McKinnon   [0. 0.]  sucesso  [ 0.         -0.49950482]    31   \n",
       "37  GaoHanAlmostQuadratic   [1. 1.]  sucesso    [0.00033019 0.00020935]    34   \n",
       "\n",
       "                objetivo                gradiente     norma     tempo  \n",
       "36  -0.24999975480071346  [0.         0.00099035]  0.000990  0.000000  \n",
       "37    [[1.62793777e-07]]  [0.00069339 0.00046162]  0.000833  0.001995  "
      ]
     },
     "execution_count": 73,
     "metadata": {},
     "output_type": "execute_result"
    }
   ],
   "source": [
    "prob_nao_resolv"
   ]
  },
  {
   "cell_type": "code",
   "execution_count": 74,
   "metadata": {},
   "outputs": [],
   "source": [
    "prob_nao_resolv[\"x_inicial\"] = np.NaN\n",
    "prob_nao_resolv[\"status\"] = np.NaN\n",
    "prob_nao_resolv[\"x_final\"] = np.NaN\n",
    "prob_nao_resolv[\"iter\"] = np.NaN\n",
    "prob_nao_resolv[\"objetivo\"] = np.NaN \n",
    "prob_nao_resolv[\"gradiente\"] = np.NaN\n",
    "prob_nao_resolv[\"norma\"] = np.NaN\n",
    "prob_nao_resolv[\"tempo\"] = inf"
   ]
  },
  {
   "cell_type": "code",
   "execution_count": 75,
   "metadata": {},
   "outputs": [],
   "source": [
    "lote_c = pd.concat([lote, prob_nao_resolv], axis = 0)\n",
    "estoc_c = pd.concat([estoc, prob_nao_resolv], axis = 0)"
   ]
  },
  {
   "cell_type": "code",
   "execution_count": 76,
   "metadata": {},
   "outputs": [],
   "source": [
    "grad[\"metodo\"] = \"gradiente\"\n",
    "estoc_c[\"metodo\"] = \"estoc\"\n",
    "lote_c[\"metodo\"] = \"lote\"\n",
    "\n",
    "df = pd.concat([grad, estoc_c, lote_c], axis = 0)"
   ]
  },
  {
   "cell_type": "code",
   "execution_count": 77,
   "metadata": {},
   "outputs": [
    {
     "data": {
      "text/html": [
       "<div>\n",
       "<style scoped>\n",
       "    .dataframe tbody tr th:only-of-type {\n",
       "        vertical-align: middle;\n",
       "    }\n",
       "\n",
       "    .dataframe tbody tr th {\n",
       "        vertical-align: top;\n",
       "    }\n",
       "\n",
       "    .dataframe thead th {\n",
       "        text-align: right;\n",
       "    }\n",
       "</style>\n",
       "<table border=\"1\" class=\"dataframe\">\n",
       "  <thead>\n",
       "    <tr style=\"text-align: right;\">\n",
       "      <th></th>\n",
       "      <th>metodo</th>\n",
       "      <th>tempo</th>\n",
       "    </tr>\n",
       "  </thead>\n",
       "  <tbody>\n",
       "    <tr>\n",
       "      <th>0</th>\n",
       "      <td>estoc</td>\n",
       "      <td>0.000000</td>\n",
       "    </tr>\n",
       "    <tr>\n",
       "      <th>1</th>\n",
       "      <td>gradiente</td>\n",
       "      <td>0.000000</td>\n",
       "    </tr>\n",
       "    <tr>\n",
       "      <th>2</th>\n",
       "      <td>lote</td>\n",
       "      <td>0.000993</td>\n",
       "    </tr>\n",
       "  </tbody>\n",
       "</table>\n",
       "</div>"
      ],
      "text/plain": [
       "      metodo     tempo\n",
       "0      estoc  0.000000\n",
       "1  gradiente  0.000000\n",
       "2       lote  0.000993"
      ]
     },
     "execution_count": 77,
     "metadata": {},
     "output_type": "execute_result"
    }
   ],
   "source": [
    "df.query(\"status == 'sucesso'\").groupby(\"metodo\", as_index = False)[\"tempo\"].min()"
   ]
  },
  {
   "cell_type": "code",
   "execution_count": 78,
   "metadata": {},
   "outputs": [],
   "source": [
    "df[\"tempo_teo\"] = df[\"tempo\"].apply(lambda x: 1e-8 if x == 0.000000 else x)"
   ]
  },
  {
   "cell_type": "code",
   "execution_count": 79,
   "metadata": {},
   "outputs": [],
   "source": [
    "df.loc[(df.status != 'sucesso'), \"tempo_teo\"] = inf"
   ]
  },
  {
   "cell_type": "code",
   "execution_count": 80,
   "metadata": {},
   "outputs": [
    {
     "data": {
      "text/html": [
       "<div>\n",
       "<style scoped>\n",
       "    .dataframe tbody tr th:only-of-type {\n",
       "        vertical-align: middle;\n",
       "    }\n",
       "\n",
       "    .dataframe tbody tr th {\n",
       "        vertical-align: top;\n",
       "    }\n",
       "\n",
       "    .dataframe thead th {\n",
       "        text-align: right;\n",
       "    }\n",
       "</style>\n",
       "<table border=\"1\" class=\"dataframe\">\n",
       "  <thead>\n",
       "    <tr style=\"text-align: right;\">\n",
       "      <th></th>\n",
       "      <th>metodo</th>\n",
       "      <th>tempo_teo</th>\n",
       "    </tr>\n",
       "  </thead>\n",
       "  <tbody>\n",
       "    <tr>\n",
       "      <th>0</th>\n",
       "      <td>estoc</td>\n",
       "      <td>1.000000e-08</td>\n",
       "    </tr>\n",
       "    <tr>\n",
       "      <th>1</th>\n",
       "      <td>gradiente</td>\n",
       "      <td>1.000000e-08</td>\n",
       "    </tr>\n",
       "    <tr>\n",
       "      <th>2</th>\n",
       "      <td>lote</td>\n",
       "      <td>9.927750e-04</td>\n",
       "    </tr>\n",
       "  </tbody>\n",
       "</table>\n",
       "</div>"
      ],
      "text/plain": [
       "      metodo     tempo_teo\n",
       "0      estoc  1.000000e-08\n",
       "1  gradiente  1.000000e-08\n",
       "2       lote  9.927750e-04"
      ]
     },
     "execution_count": 80,
     "metadata": {},
     "output_type": "execute_result"
    }
   ],
   "source": [
    "minimos = df.query(\"status == 'sucesso'\").groupby(\"metodo\", as_index = False)[\"tempo_teo\"].min()\n",
    "minimos"
   ]
  },
  {
   "cell_type": "code",
   "execution_count": null,
   "metadata": {},
   "outputs": [],
   "source": [
    "\n",
    "\n"
   ]
  },
  {
   "cell_type": "code",
   "execution_count": 81,
   "metadata": {},
   "outputs": [],
   "source": [
    "df.loc[(df.metodo == 'estoc'), \"tempo_teo_min\"] = minimos.query(\"metodo == 'estoc'\").tempo_teo.values[0]\n",
    "df.loc[(df.metodo == 'gradiente'), \"tempo_teo_min\"] = minimos.query(\"metodo == 'gradiente'\").tempo_teo.values[0]\n",
    "df.loc[(df.metodo == 'lote'), \"tempo_teo_min\"] = minimos.query(\"metodo == 'lote'\").tempo_teo.values[0]"
   ]
  },
  {
   "cell_type": "code",
   "execution_count": 82,
   "metadata": {},
   "outputs": [],
   "source": [
    "df[\"rps\"] = df[\"tempo_teo\"] / df[\"tempo_teo_min\"]"
   ]
  },
  {
   "cell_type": "code",
   "execution_count": 83,
   "metadata": {},
   "outputs": [],
   "source": [
    "df[\"resolvido\"] = df[\"status\"].map(lambda x: 1 if x == 'sucesso' else 0)"
   ]
  },
  {
   "cell_type": "code",
   "execution_count": 84,
   "metadata": {},
   "outputs": [],
   "source": [
    "df = df.sort_values([\"metodo\", \"tempo_teo\"])"
   ]
  },
  {
   "cell_type": "code",
   "execution_count": 92,
   "metadata": {},
   "outputs": [],
   "source": [
    "df[\"card_resolvidos\"] = df.groupby([\"metodo\"], as_index = False)[\"resolvido\"].cumsum()"
   ]
  },
  {
   "cell_type": "code",
   "execution_count": 94,
   "metadata": {},
   "outputs": [],
   "source": [
    "df[\"rho\"] = df[\"card_resolvidos\"] / len(df.problema.unique())"
   ]
  },
  {
   "cell_type": "code",
   "execution_count": 106,
   "metadata": {},
   "outputs": [],
   "source": [
    "df.reset_index(drop = True, inplace= True)"
   ]
  },
  {
   "cell_type": "code",
   "execution_count": 136,
   "metadata": {},
   "outputs": [
    {
     "data": {
      "text/plain": [
       "Text(0.5, 1.0, 'Método lote')"
      ]
     },
     "execution_count": 136,
     "metadata": {},
     "output_type": "execute_result"
    },
    {
     "data": {
      "image/png": "[encoded data removed]",
      "text/plain": [
       "<Figure size 1600x900 with 1 Axes>"
      ]
     },
     "metadata": {},
     "output_type": "display_data"
    }
   ],
   "source": [
    "plt.figure(figsize = (16,9))\n",
    "ax = sns.lineplot(x = \"rps\", y = \"rho\", data = df.query(\"rps < 50 and metodo == 'lote'\"))\n",
    "ax.set_ylim(0,1)\n",
    "ax.set_xlabel(\"Tau\", fontsize = 15)\n",
    "ax.set_ylabel(\"Rho\", fontsize = 15)\n",
    "ax.set_title(\"Método lote\", fontsize = 20)"
   ]
  },
  {
   "cell_type": "code",
   "execution_count": 141,
   "metadata": {},
   "outputs": [
    {
     "data": {
      "text/plain": [
       "Text(0.5, 1.0, 'Método Gradiente Descendente e Estocástico')"
      ]
     },
     "execution_count": 141,
     "metadata": {},
     "output_type": "execute_result"
    },
    {
     "data": {
      "image/png": "[encoded data removed]",
      "text/plain": [
       "<Figure size 1600x900 with 1 Axes>"
      ]
     },
     "metadata": {},
     "output_type": "display_data"
    }
   ],
   "source": [
    "plt.figure(figsize = (16,9))\n",
    "ax = sns.lineplot(x = \"rps\", y = \"rho\", data = df.query(\"rps < 5e6 and metodo != 'lote'\"), hue = \"metodo\")\n",
    "ax.set_ylim(0,1)\n",
    "ax.set_xlabel(\"Tau\", fontsize = 15)\n",
    "ax.set_ylabel(\"Rho\", fontsize = 15)\n",
    "ax.set_title(\"Método Gradiente Descendente e Estocástico\", fontsize = 20)"
   ]
  },
  {
   "cell_type": "code",
   "execution_count": 131,
   "metadata": {},
   "outputs": [
    {
     "data": {
      "text/plain": [
       "count    40.000000\n",
       "mean           inf\n",
       "std            NaN\n",
       "min       1.000000\n",
       "25%       3.012908\n",
       "50%       5.526777\n",
       "75%            inf\n",
       "max            inf\n",
       "Name: rps, dtype: float64"
      ]
     },
     "execution_count": 131,
     "metadata": {},
     "output_type": "execute_result"
    }
   ],
   "source": [
    "df.query(\"metodo == 'lote'\").rps.describe()"
   ]
  },
  {
   "cell_type": "code",
   "execution_count": 132,
   "metadata": {},
   "outputs": [
    {
     "data": {
      "text/plain": [
       "count    4.000000e+01\n",
       "mean              inf\n",
       "std               NaN\n",
       "min      1.000000e+00\n",
       "25%      3.718019e+05\n",
       "50%      7.461667e+05\n",
       "75%      8.715975e+07\n",
       "max               inf\n",
       "Name: rps, dtype: float64"
      ]
     },
     "execution_count": 132,
     "metadata": {},
     "output_type": "execute_result"
    }
   ],
   "source": [
    "df.query(\"metodo == 'estoc'\").rps.describe()"
   ]
  },
  {
   "cell_type": "code",
   "execution_count": 133,
   "metadata": {},
   "outputs": [
    {
     "data": {
      "text/plain": [
       "count    4.000000e+01\n",
       "mean              inf\n",
       "std               NaN\n",
       "min      1.000000e+00\n",
       "25%      1.009047e+05\n",
       "50%      2.971768e+05\n",
       "75%      7.247746e+05\n",
       "max               inf\n",
       "Name: rps, dtype: float64"
      ]
     },
     "execution_count": 133,
     "metadata": {},
     "output_type": "execute_result"
    }
   ],
   "source": [
    "df.query(\"metodo == 'gradiente'\").rps.describe()"
   ]
  },
  {
   "cell_type": "code",
   "execution_count": null,
   "metadata": {},
   "outputs": [],
   "source": []
  }
 ],
 "metadata": {
  "kernelspec": {
   "display_name": "Python 3.10.4 ('pnl': venv)",
   "language": "python",
   "name": "python3"
  },
  "language_info": {
   "codemirror_mode": {
    "name": "ipython",
    "version": 3
   },
   "file_extension": ".py",
   "mimetype": "text/x-python",
   "name": "python",
   "nbconvert_exporter": "python",
   "pygments_lexer": "ipython3",
   "version": "3.10.4"
  },
  "orig_nbformat": 4,
  "vscode": {
   "interpreter": {
    "hash": "187011b9b6be311ef9253e311f23ec59302b2962b5ba3a2493b01a8503e9840c"
   }
  }
 },
 "nbformat": 4,
 "nbformat_minor": 2
}
